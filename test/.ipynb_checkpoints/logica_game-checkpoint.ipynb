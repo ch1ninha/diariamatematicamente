{
 "cells": [
  {
   "cell_type": "code",
   "execution_count": 1,
   "id": "e1031c80-563f-47fa-bb05-e72f8ca318ec",
   "metadata": {},
   "outputs": [],
   "source": [
    "class game:\n",
    "    def __init__(self):\n",
    "        self.status = True"
   ]
  },
  {
   "cell_type": "code",
   "execution_count": null,
   "id": "0805a456-8787-418d-9c7a-532d4ef076c9",
   "metadata": {},
   "outputs": [],
   "source": []
  }
 ],
 "metadata": {
  "kernelspec": {
   "display_name": "Python 3 (ipykernel)",
   "language": "python",
   "name": "python3"
  },
  "language_info": {
   "codemirror_mode": {
    "name": "ipython",
    "version": 3
   },
   "file_extension": ".py",
   "mimetype": "text/x-python",
   "name": "python",
   "nbconvert_exporter": "python",
   "pygments_lexer": "ipython3",
   "version": "3.10.1"
  }
 },
 "nbformat": 4,
 "nbformat_minor": 5
}

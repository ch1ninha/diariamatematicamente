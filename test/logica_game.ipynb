{
 "cells": [
  {
   "cell_type": "code",
   "execution_count": 1,
   "id": "e1031c80-563f-47fa-bb05-e72f8ca318ec",
   "metadata": {},
   "outputs": [],
   "source": [
    "class game:\n",
    "    def __init__(self):\n",
    "        self.status = True"
   ]
  },
  {
   "cell_type": "code",
   "execution_count": 22,
   "id": "0805a456-8787-418d-9c7a-532d4ef076c9",
   "metadata": {},
   "outputs": [
    {
     "name": "stdout",
     "output_type": "stream",
     "text": [
      "7  x  4  =  ??\n"
     ]
    }
   ],
   "source": [
    "import random\n",
    "\n",
    "r = random.randint(1,10)\n",
    "acertou = 0\n",
    "errou = 0\n",
    "for i in range(10):\n",
    "    x1 = random.randint(1,10)\n",
    "    x2 = random.randint(1,10)\n",
    "    print(\"{}  x  {}  =  {}\".format(x1,x2,\"??\"))\n",
    "    resposta = int(input(\"Qual a resposta: \"))\n",
    "    if resposta == x1*x2:\n",
    "        print(\"Acertou\")\n",
    "        acertou += 1\n",
    "        print(\"{}  x  {}  =  {}\".format(x1,x2,x1*x2))\n",
    "    else:\n",
    "        print(\"Errou!\")\n",
    "        errou += 1\n",
    "        print(\"{}  x  {}  =  {}\".format(x1,x2,x1*x2))\n",
    "\n",
    "print(\"Acertou: {}\".format(acertou))\n",
    "print(\"Errou: {}\".format(errou))\n",
    "print(\"Em \")"
   ]
  },
  {
   "cell_type": "code",
   "execution_count": null,
   "id": "a45cc108",
   "metadata": {},
   "outputs": [],
   "source": []
  }
 ],
 "metadata": {
  "kernelspec": {
   "display_name": "Python 3 (ipykernel)",
   "language": "python",
   "name": "python3"
  },
  "language_info": {
   "codemirror_mode": {
    "name": "ipython",
    "version": 3
   },
   "file_extension": ".py",
   "mimetype": "text/x-python",
   "name": "python",
   "nbconvert_exporter": "python",
   "pygments_lexer": "ipython3",
   "version": "3.7.9"
  }
 },
 "nbformat": 4,
 "nbformat_minor": 5
}

{
 "cells": [
  {
   "cell_type": "code",
   "execution_count": 13,
   "id": "c84f78bf",
   "metadata": {},
   "outputs": [
    {
     "data": {
      "text/plain": [
       "2022"
      ]
     },
     "execution_count": 13,
     "metadata": {},
     "output_type": "execute_result"
    }
   ],
   "source": [
    "from pprint import pprint\n",
    "\n",
    "a = {'0': {'num1': 11, 'num2': 7, 'resultado': 77, 'tentativa': 77},\n",
    " '1': {'num1': 17, 'num2': 4, 'resultado': 68, 'tentativa': 68},\n",
    " '2': {'num1': 17, 'num2': 13, 'resultado': 221, 'tentativa': 221},\n",
    " '3': {'num1': 5, 'num2': 5, 'resultado': 25, 'tentativa': 25},\n",
    " '4': {'num1': 6, 'num2': 2, 'resultado': 12, 'tentativa': 12},\n",
    " '5': {'num1': 6, 'num2': 19, 'resultado': 114, 'tentativa': 114},\n",
    " '6': {'num1': 19, 'num2': 17, 'resultado': 323, 'tentativa': 323},\n",
    " '7': {'num1': 1, 'num2': 2, 'resultado': 2, 'tentativa': 2},\n",
    " '8': {'num1': 4, 'num2': 18, 'resultado': 72, 'tentativa': 72},\n",
    " '9': {'num1': 15, 'num2': 8, 'resultado': 120, 'tentativa': 120}}\n",
    "\n",
    "from datetime import date\n",
    "date.today().year"
   ]
  },
  {
   "cell_type": "code",
   "execution_count": 14,
   "id": "ef1b2729-201c-4383-9303-9b54217c0672",
   "metadata": {},
   "outputs": [],
   "source": [
    "import random\n",
    "\n",
    "class game:\n",
    "    def __init__(self,dificuldade):\n",
    "        self.game = self.start()\n",
    "        self.id = None\n",
    "        self.dificuldade = dificuldade\n",
    "        self.reps = 0\n",
    "        self.status = self.check_status()\n",
    "        \n",
    "    # métodos para inicialização\n",
    "    def start(self):\n",
    "        jogo = {}\n",
    "        for i in range(10):\n",
    "            numero1 = random.randint(1,11)\n",
    "            numero2 = random.randint(1,11)\n",
    "            modelo_game = {\"numero1\":numero1,\"numero2\":numero2,\n",
    "                           \"resposta\":numero1*numero2,\"tentativa\":None}\n",
    "            jogo[f\"jogo{i}\"] = modelo_game\n",
    "        return jogo\n",
    "    \n",
    "    def check_status(self):\n",
    "        if self.game != None:\n",
    "            return True\n",
    "        else:\n",
    "            return False\n",
    "    \n",
    "    # métodos getter e setters\n",
    "    def get_tentativa(self,jogo):\n",
    "        return self.game[jogo]['tentativa']\n",
    "    def set_tentativa(self,jogo,tentativa):\n",
    "        self.game[jogo][\"tentativa\"] = tentativa\n",
    "    \n",
    "    \n",
    "    # métodos principais\n",
    "    def jogar(self):\n",
    "        _jogo_atual = self.game\n",
    "        for i in _jogo_atual:\n",
    "            tentativa = int(input(f\"{_jogo_atual[i]['numero1']} * {_jogo_atual[i]['numero2']}\"))\n",
    "            self.set_tentativa(i,tentativa)\n",
    "            print(_jogo_atual[i])\n",
    "    "
   ]
  },
  {
   "cell_type": "code",
   "execution_count": 2,
   "id": "f207cf92-7ba3-4485-9dad-811bb9ed3138",
   "metadata": {},
   "outputs": [],
   "source": [
    "a = game(\"easy\")"
   ]
  },
  {
   "cell_type": "code",
   "execution_count": 13,
   "id": "5a8746a3-165c-4220-bc51-af2a12217387",
   "metadata": {},
   "outputs": [
    {
     "name": "stdout",
     "output_type": "stream",
     "text": [
      "2 * 3 6\n"
     ]
    },
    {
     "name": "stdout",
     "output_type": "stream",
     "text": [
      "{'numero1': 2, 'numero2': 3, 'resposta': 6, 'tentativa': 6}\n"
     ]
    },
    {
     "name": "stdout",
     "output_type": "stream",
     "text": [
      "9 * 10 90\n"
     ]
    },
    {
     "name": "stdout",
     "output_type": "stream",
     "text": [
      "{'numero1': 9, 'numero2': 10, 'resposta': 90, 'tentativa': 90}\n"
     ]
    },
    {
     "name": "stdout",
     "output_type": "stream",
     "text": [
      "10 * 4 40\n"
     ]
    },
    {
     "name": "stdout",
     "output_type": "stream",
     "text": [
      "{'numero1': 10, 'numero2': 4, 'resposta': 40, 'tentativa': 40}\n"
     ]
    },
    {
     "name": "stdout",
     "output_type": "stream",
     "text": [
      "1 * 5 5\n"
     ]
    },
    {
     "name": "stdout",
     "output_type": "stream",
     "text": [
      "{'numero1': 1, 'numero2': 5, 'resposta': 5, 'tentativa': 5}\n"
     ]
    },
    {
     "name": "stdout",
     "output_type": "stream",
     "text": [
      "4 * 2 8\n"
     ]
    },
    {
     "name": "stdout",
     "output_type": "stream",
     "text": [
      "{'numero1': 4, 'numero2': 2, 'resposta': 8, 'tentativa': 8}\n"
     ]
    },
    {
     "name": "stdout",
     "output_type": "stream",
     "text": [
      "10 * 1 10\n"
     ]
    },
    {
     "name": "stdout",
     "output_type": "stream",
     "text": [
      "{'numero1': 10, 'numero2': 1, 'resposta': 10, 'tentativa': 10}\n"
     ]
    },
    {
     "name": "stdout",
     "output_type": "stream",
     "text": [
      "4 * 9 36\n"
     ]
    },
    {
     "name": "stdout",
     "output_type": "stream",
     "text": [
      "{'numero1': 4, 'numero2': 9, 'resposta': 36, 'tentativa': 36}\n"
     ]
    },
    {
     "name": "stdout",
     "output_type": "stream",
     "text": [
      "4 * 3 12\n"
     ]
    },
    {
     "name": "stdout",
     "output_type": "stream",
     "text": [
      "{'numero1': 4, 'numero2': 3, 'resposta': 12, 'tentativa': 12}\n"
     ]
    },
    {
     "name": "stdout",
     "output_type": "stream",
     "text": [
      "6 * 8 48\n"
     ]
    },
    {
     "name": "stdout",
     "output_type": "stream",
     "text": [
      "{'numero1': 6, 'numero2': 8, 'resposta': 48, 'tentativa': 48}\n"
     ]
    },
    {
     "name": "stdout",
     "output_type": "stream",
     "text": [
      "1 * 10 10\n"
     ]
    },
    {
     "name": "stdout",
     "output_type": "stream",
     "text": [
      "{'numero1': 1, 'numero2': 10, 'resposta': 10, 'tentativa': 10}\n"
     ]
    }
   ],
   "source": [
    "a.jogar()"
   ]
  },
  {
   "cell_type": "code",
   "execution_count": 14,
   "id": "23134303-c363-42f4-9bf6-e67fa11d8648",
   "metadata": {},
   "outputs": [
    {
     "data": {
      "text/plain": [
       "{'tentativas': 10, 'acertou': 10, 'errou': 0}"
      ]
     },
     "execution_count": 14,
     "metadata": {},
     "output_type": "execute_result"
    }
   ],
   "source": [
    "from Score import Score\n",
    "\n",
    "jogo = Score(a)\n",
    "\n",
    "jogo.conferir_pontuacao()"
   ]
  },
  {
   "cell_type": "code",
   "execution_count": null,
   "id": "7d07bd6c-8338-4a50-9ad8-7448328b0ded",
   "metadata": {},
   "outputs": [],
   "source": [
    "jogo.get_correct()"
   ]
  },
  {
   "cell_type": "code",
   "execution_count": null,
   "id": "d5d74ffa-5e1c-4d7b-839d-d69df7f30deb",
   "metadata": {},
   "outputs": [],
   "source": [
    "oi = 0\n",
    "oi += 1\n",
    "oi"
   ]
  },
  {
   "cell_type": "code",
   "execution_count": null,
   "id": "b3114255-60c0-429f-9ab6-12faa77c20f5",
   "metadata": {},
   "outputs": [],
   "source": []
  },
  {
   "cell_type": "code",
   "execution_count": null,
   "id": "2e16329e-7dd8-4639-909e-2d770dea323c",
   "metadata": {},
   "outputs": [],
   "source": []
  }
 ],
 "metadata": {
  "kernelspec": {
   "display_name": "Python 3.7.9 64-bit (windows store)",
   "language": "python",
   "name": "python3"
  },
  "language_info": {
   "codemirror_mode": {
    "name": "ipython",
    "version": 3
   },
   "file_extension": ".py",
   "mimetype": "text/x-python",
   "name": "python",
   "nbconvert_exporter": "python",
   "pygments_lexer": "ipython3",
   "version": "3.7.9"
  },
  "vscode": {
   "interpreter": {
    "hash": "56d44d6a8424451b5ce45d1ae0b0b7865dc60710e7f74571dd51dd80d7829ee9"
   }
  }
 },
 "nbformat": 4,
 "nbformat_minor": 5
}

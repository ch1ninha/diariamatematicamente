{
 "cells": [
  {
   "cell_type": "code",
   "execution_count": 52,
   "id": "ef1b2729-201c-4383-9303-9b54217c0672",
   "metadata": {},
   "outputs": [],
   "source": [
    "import random\n",
    "\n",
    "class game:\n",
    "    def __init__(self,dificuldade):\n",
    "        self.game = self.start()\n",
    "        self.id = None\n",
    "        self.dificuldade = dificuldade\n",
    "        self.reps = 0\n",
    "        \n",
    "    # métodos para inicialização\n",
    "    def start(self):\n",
    "        jogo = {}\n",
    "        for i in range(10):\n",
    "            numero1 = random.randint(1,11)\n",
    "            numero2 = random.randint(1,11)\n",
    "            modelo_game = {\"numero1\":numero1,\"numero2\":numero2,\n",
    "                           \"resposta\":numero1*numero2,\"tentativa\":None}\n",
    "            jogo[f\"jogo{i}\"] = modelo_game\n",
    "        return jogo\n",
    "    \n",
    "    # métodos getter e setters\n",
    "    def get_tentativa(self,jogo):\n",
    "        return self.game[jogo]['tentativa']\n",
    "    def set_tentativa(self,jogo,tentativa):\n",
    "        self.game[jogo][\"tentativa\"] = tentativa\n",
    "    \n",
    "    \n",
    "    # métodos principais\n",
    "    def jogar(self):\n",
    "        _jogo_atual = self.game\n",
    "        for i in _jogo_atual:\n",
    "            tentativa = int(input(f\"{_jogo_atual[i]['numero1']} * {_jogo_atual[i]['numero2']}\"))\n",
    "            self.set_tentativa(i,tentativa)\n",
    "            print(_jogo_atual[i])\n",
    "    "
   ]
  },
  {
   "cell_type": "code",
   "execution_count": 53,
   "id": "f207cf92-7ba3-4485-9dad-811bb9ed3138",
   "metadata": {},
   "outputs": [],
   "source": [
    "a = game(\"easy\")"
   ]
  },
  {
   "cell_type": "code",
   "execution_count": 54,
   "id": "5a8746a3-165c-4220-bc51-af2a12217387",
   "metadata": {},
   "outputs": [
    {
     "name": "stdin",
     "output_type": "stream",
     "text": [
      "7 * 5 35\n"
     ]
    },
    {
     "name": "stdout",
     "output_type": "stream",
     "text": [
      "{'numero1': 7, 'numero2': 5, 'resposta': 35, 'tentativa': 35}\n"
     ]
    },
    {
     "name": "stdin",
     "output_type": "stream",
     "text": [
      "11 * 8 88\n"
     ]
    },
    {
     "name": "stdout",
     "output_type": "stream",
     "text": [
      "{'numero1': 11, 'numero2': 8, 'resposta': 88, 'tentativa': 88}\n"
     ]
    },
    {
     "name": "stdin",
     "output_type": "stream",
     "text": [
      "11 * 4 44\n"
     ]
    },
    {
     "name": "stdout",
     "output_type": "stream",
     "text": [
      "{'numero1': 11, 'numero2': 4, 'resposta': 44, 'tentativa': 44}\n"
     ]
    },
    {
     "name": "stdin",
     "output_type": "stream",
     "text": [
      "11 * 9 99\n"
     ]
    },
    {
     "name": "stdout",
     "output_type": "stream",
     "text": [
      "{'numero1': 11, 'numero2': 9, 'resposta': 99, 'tentativa': 99}\n"
     ]
    },
    {
     "name": "stdin",
     "output_type": "stream",
     "text": [
      "11 * 10 110\n"
     ]
    },
    {
     "name": "stdout",
     "output_type": "stream",
     "text": [
      "{'numero1': 11, 'numero2': 10, 'resposta': 110, 'tentativa': 110}\n"
     ]
    },
    {
     "name": "stdin",
     "output_type": "stream",
     "text": [
      "7 * 8 56\n"
     ]
    },
    {
     "name": "stdout",
     "output_type": "stream",
     "text": [
      "{'numero1': 7, 'numero2': 8, 'resposta': 56, 'tentativa': 56}\n"
     ]
    },
    {
     "name": "stdin",
     "output_type": "stream",
     "text": [
      "2 * 8 16\n"
     ]
    },
    {
     "name": "stdout",
     "output_type": "stream",
     "text": [
      "{'numero1': 2, 'numero2': 8, 'resposta': 16, 'tentativa': 16}\n"
     ]
    },
    {
     "name": "stdin",
     "output_type": "stream",
     "text": [
      "10 * 8 80\n"
     ]
    },
    {
     "name": "stdout",
     "output_type": "stream",
     "text": [
      "{'numero1': 10, 'numero2': 8, 'resposta': 80, 'tentativa': 80}\n"
     ]
    },
    {
     "name": "stdin",
     "output_type": "stream",
     "text": [
      "3 * 8 24\n"
     ]
    },
    {
     "name": "stdout",
     "output_type": "stream",
     "text": [
      "{'numero1': 3, 'numero2': 8, 'resposta': 24, 'tentativa': 24}\n"
     ]
    },
    {
     "name": "stdin",
     "output_type": "stream",
     "text": [
      "7 * 3 21\n"
     ]
    },
    {
     "name": "stdout",
     "output_type": "stream",
     "text": [
      "{'numero1': 7, 'numero2': 3, 'resposta': 21, 'tentativa': 21}\n"
     ]
    }
   ],
   "source": [
    "a.jogar()"
   ]
  },
  {
   "cell_type": "code",
   "execution_count": null,
   "id": "23134303-c363-42f4-9bf6-e67fa11d8648",
   "metadata": {},
   "outputs": [],
   "source": []
  },
  {
   "cell_type": "code",
   "execution_count": null,
   "id": "2e16329e-7dd8-4639-909e-2d770dea323c",
   "metadata": {},
   "outputs": [],
   "source": []
  }
 ],
 "metadata": {
  "kernelspec": {
   "display_name": "Python 3 (ipykernel)",
   "language": "python",
   "name": "python3"
  },
  "language_info": {
   "codemirror_mode": {
    "name": "ipython",
    "version": 3
   },
   "file_extension": ".py",
   "mimetype": "text/x-python",
   "name": "python",
   "nbconvert_exporter": "python",
   "pygments_lexer": "ipython3",
   "version": "3.10.1"
  }
 },
 "nbformat": 4,
 "nbformat_minor": 5
}

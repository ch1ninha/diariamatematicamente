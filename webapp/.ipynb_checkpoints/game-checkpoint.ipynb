{
 "cells": [
  {
   "cell_type": "code",
   "execution_count": 1,
   "id": "ef1b2729-201c-4383-9303-9b54217c0672",
   "metadata": {},
   "outputs": [],
   "source": [
    "import random\n",
    "\n",
    "class game:\n",
    "    def __init__(self,dificuldade):\n",
    "        self.game = self.start()\n",
    "        self.id = None\n",
    "        self.dificuldade = dificuldade\n",
    "        self.reps = 0\n",
    "        self.status = self.check_status()\n",
    "        \n",
    "    # métodos para inicialização\n",
    "    def start(self):\n",
    "        jogo = {}\n",
    "        for i in range(10):\n",
    "            numero1 = random.randint(1,11)\n",
    "            numero2 = random.randint(1,11)\n",
    "            modelo_game = {\"numero1\":numero1,\"numero2\":numero2,\n",
    "                           \"resposta\":numero1*numero2,\"tentativa\":None}\n",
    "            jogo[f\"jogo{i}\"] = modelo_game\n",
    "        return jogo\n",
    "    \n",
    "    def check_status(self):\n",
    "        if self.game != None:\n",
    "            return True\n",
    "        else:\n",
    "            return False\n",
    "    \n",
    "    # métodos getter e setters\n",
    "    def get_tentativa(self,jogo):\n",
    "        return self.game[jogo]['tentativa']\n",
    "    def set_tentativa(self,jogo,tentativa):\n",
    "        self.game[jogo][\"tentativa\"] = tentativa\n",
    "    \n",
    "    \n",
    "    # métodos principais\n",
    "    def jogar(self):\n",
    "        _jogo_atual = self.game\n",
    "        for i in _jogo_atual:\n",
    "            tentativa = int(input(f\"{_jogo_atual[i]['numero1']} * {_jogo_atual[i]['numero2']}\"))\n",
    "            self.set_tentativa(i,tentativa)\n",
    "            print(_jogo_atual[i])\n",
    "    "
   ]
  },
  {
   "cell_type": "code",
   "execution_count": 2,
   "id": "f207cf92-7ba3-4485-9dad-811bb9ed3138",
   "metadata": {},
   "outputs": [],
   "source": [
    "a = game(\"easy\")"
   ]
  },
  {
   "cell_type": "code",
   "execution_count": 3,
   "id": "5a8746a3-165c-4220-bc51-af2a12217387",
   "metadata": {},
   "outputs": [],
   "source": [
    "# a.jogar()"
   ]
  },
  {
   "cell_type": "code",
   "execution_count": 11,
   "id": "23134303-c363-42f4-9bf6-e67fa11d8648",
   "metadata": {},
   "outputs": [
    {
     "data": {
      "text/plain": [
       "{'tentativas': 10, 'acertou': 0, 'errou': 10}"
      ]
     },
     "execution_count": 11,
     "metadata": {},
     "output_type": "execute_result"
    }
   ],
   "source": [
    "from Score import Score\n",
    "\n",
    "jogo = Score(a)\n",
    "\n",
    "jogo.conferir_pontuacao()"
   ]
  },
  {
   "cell_type": "code",
   "execution_count": null,
   "id": "7d07bd6c-8338-4a50-9ad8-7448328b0ded",
   "metadata": {},
   "outputs": [],
   "source": [
    "jogo.get_correct()"
   ]
  },
  {
   "cell_type": "code",
   "execution_count": null,
   "id": "d5d74ffa-5e1c-4d7b-839d-d69df7f30deb",
   "metadata": {},
   "outputs": [],
   "source": [
    "oi = 0\n",
    "oi += 1\n",
    "oi"
   ]
  },
  {
   "cell_type": "code",
   "execution_count": null,
   "id": "b3114255-60c0-429f-9ab6-12faa77c20f5",
   "metadata": {},
   "outputs": [],
   "source": []
  }
 ],
 "metadata": {
  "kernelspec": {
   "display_name": "Python 3 (ipykernel)",
   "language": "python",
   "name": "python3"
  },
  "language_info": {
   "codemirror_mode": {
    "name": "ipython",
    "version": 3
   },
   "file_extension": ".py",
   "mimetype": "text/x-python",
   "name": "python",
   "nbconvert_exporter": "python",
   "pygments_lexer": "ipython3",
   "version": "3.10.1"
  }
 },
 "nbformat": 4,
 "nbformat_minor": 5
}
